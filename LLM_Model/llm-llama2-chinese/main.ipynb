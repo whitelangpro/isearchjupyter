{
 "cells": [
  {
   "cell_type": "code",
   "execution_count": 2,
   "id": "abafce89-3bf6-414f-acab-f6010951df66",
   "metadata": {
    "tags": []
   },
   "outputs": [
    {
     "name": "stdout",
     "output_type": "stream",
     "text": [
      "sagemaker role arn: arn:aws:iam::310850127430:role/NotebookStack-SmartSearchNotebookRole6F6BB12B-690JW6F9FRZD\n",
      "sagemaker bucket: sagemaker-us-east-1-310850127430\n",
      "sagemaker session region: us-east-1\n"
     ]
    }
   ],
   "source": [
    "import sagemaker\n",
    "import boto3\n",
    "\n",
    "sess = sagemaker.Session()\n",
    "region = sess.boto_session.region_name\n",
    "# sagemaker session bucket -> used for uploading data, models and logs\n",
    "# sagemaker will automatically create this bucket if it not exists\n",
    "default_bucket=None\n",
    "if default_bucket is None and sess is not None:\n",
    "    # set to default bucket if a bucket name is not given\n",
    "    default_bucket = sess.default_bucket()\n",
    "\n",
    "try:\n",
    "    role = sagemaker.get_execution_role()\n",
    "except ValueError:\n",
    "    iam = boto3.client('iam')\n",
    "    role = iam.get_role(RoleName='sagemaker_execution_role')['Role']['Arn']\n",
    "\n",
    "\n",
    "print(f\"sagemaker role arn: {role}\")\n",
    "print(f\"sagemaker bucket: {default_bucket}\")\n",
    "print(f\"sagemaker session region: {region}\")"
   ]
  },
  {
   "cell_type": "code",
   "execution_count": 37,
   "id": "74abcb1c-5da2-4f57-a1ce-b5377bde3729",
   "metadata": {
    "tags": []
   },
   "outputs": [
    {
     "name": "stdout",
     "output_type": "stream",
     "text": [
      "acc_llama2_model/\n",
      "acc_llama2_model/requirements.txt\n",
      "acc_llama2_model/model.py\n",
      "acc_llama2_model/serving.properties\n",
      "s3://sagemaker-us-east-1-310850127430/tmp0625/v1-2023-08-13-13-13-17-026/acc_llama2_model.tar.gz\n",
      "------------------------!"
     ]
    }
   ],
   "source": [
    "code_tarname = 'acc_llama2_model'\n",
    "\n",
    "!rm -rf {code_tarname}.tar.gz\n",
    "!rm -rf {code_tarname}/.ipynb_checkpoints\n",
    "!tar czvf {code_tarname}.tar.gz {code_tarname}/\n",
    "\n",
    "# copy the deployment configs tar to a path (different from hf model artifacts)\n",
    "s3_code_artifact = sess.upload_data(f\"{code_tarname}.tar.gz\", default_bucket, sagemaker.utils.name_from_base(\"tmp0625/v1\"))\n",
    "print(s3_code_artifact)\n",
    "\n",
    "from sagemaker.model import Model\n",
    "from sagemaker import serializers, deserializers\n",
    "from sagemaker import image_uris\n",
    "import boto3\n",
    "\n",
    "# specify a inference container version, found at: \n",
    "# https://github.com/aws/deep-learning-containers/blob/master/available_images.md#large-model-inference-containers\n",
    "\n",
    "inference_image_uri = f\"763104351884.dkr.ecr.{region}.amazonaws.com/djl-inference:0.22.1-deepspeed0.9.2-cu118\"\n",
    "\n",
    "# image_uri in china region\n",
    "#inference_image_uri = f\"727897471807.dkr.ecr.cn-north-1.amazonaws.com.cn/djl-inference:0.22.1-deepspeed0.9.2-cu118\"\n",
    "\n",
    "# endpoint_name = sagemaker.utils.name_from_base(code_tarname.replace('_','-'))\n",
    "\n",
    "\n",
    "endpoint_name = \"llama2-chinese-v2\"\n",
    "\n",
    "try:\n",
    "    client = boto3.client('sagemaker')\n",
    "    client.delete_endpoint_config(EndpointConfigName=endpoint_name)\n",
    "except:\n",
    "    pass\n",
    "\n",
    "model = Model(image_uri=inference_image_uri,\n",
    "              model_data=s3_code_artifact, \n",
    "              role=role)\n",
    "\n",
    "instance_type = 'ml.g5.4xlarge'\n",
    "if region.find('cn') >=0:\n",
    "    instance_type = 'ml.g4dn.4xlarge'\n",
    "\n",
    "model.deploy(initial_instance_count = 1,\n",
    "             instance_type = instance_type, \n",
    "             endpoint_name = endpoint_name,\n",
    "             container_startup_health_check_timeout = 480\n",
    "            )"
   ]
  },
  {
   "cell_type": "code",
   "execution_count": 38,
   "id": "c574de12-cdb1-4870-a400-c7d657bdcf56",
   "metadata": {
    "tags": []
   },
   "outputs": [
    {
     "data": {
      "text/plain": [
       "{'answer': \"[INST] <<SYS>>\\nYou are a helpful, respectful and honest assistant. Always answer as helpfully as possible, while being safe.  Your answers should not include any harmful, unethical, racist, sexist, toxic, dangerous, or illegal content. Please ensure that your responses are socially unbiased and positive in nature.\\n\\n            If a question does not make any sense, or is not factually coherent, explain why instead of answering something not correct. If you don't know the answer to a question, please don't share false information.\\n<</SYS>>\\n\\n如何快速入睡 [/INST]  以下是一些快速入睡的方法：\\n1. 建立规律的睡眠时间表。\\n2. 避免在睡前饮用含咖啡因的饮料。\\n3. 创造一个安静、舒适的睡眠环境。\\n4. 放松身体和头脑，例如泡个热水澡或冥想。\\n5. 避免在床上看电视或使用电子设备。\\n6. 避免在床上工作或学习。\\n7. 尝试使用呼吸练习或深度放松技巧。\\n8. 尝试使用柔和的音乐或自然声音。\\n9. 尝试使用香薰或蜡烛。\\n10. 如果以上方法都不起作用，可以考虑咨询医生或专业人士。 \"}"
      ]
     },
     "execution_count": 38,
     "metadata": {},
     "output_type": "execute_result"
    }
   ],
   "source": [
    "predictor = sagemaker.Predictor(\n",
    "            endpoint_name=endpoint_name,\n",
    "            sagemaker_session=sess,\n",
    "            serializer=serializers.JSONSerializer(),\n",
    "            deserializer=deserializers.JSONDeserializer(),\n",
    "            )\n",
    "predictor.predict(\n",
    "    {\"ask\": \"如何快速入睡\", \n",
    "     # \"parameters\": {\"max_length\": 100, \"top_p\":0.45, \"temperature\":0.45},\n",
    "     # \"history\":[]\n",
    "     }\n",
    ")"
   ]
  },
  {
   "cell_type": "code",
   "execution_count": null,
   "id": "ccfb4fda-d32f-473d-8648-77bf3b7bbf9d",
   "metadata": {},
   "outputs": [],
   "source": []
  }
 ],
 "metadata": {
  "kernelspec": {
   "display_name": "conda_amazonei_pytorch_latest_p37",
   "language": "python",
   "name": "conda_amazonei_pytorch_latest_p37"
  },
  "language_info": {
   "codemirror_mode": {
    "name": "ipython",
    "version": 3
   },
   "file_extension": ".py",
   "mimetype": "text/x-python",
   "name": "python",
   "nbconvert_exporter": "python",
   "pygments_lexer": "ipython3",
   "version": "3.7.10"
  }
 },
 "nbformat": 4,
 "nbformat_minor": 5
}
