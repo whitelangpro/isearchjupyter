{
 "cells": [
  {
   "cell_type": "code",
   "execution_count": null,
   "id": "35d468d0-4fb6-4b83-b9c3-7dade083b1ba",
   "metadata": {
    "scrolled": true,
    "tags": []
   },
   "outputs": [],
   "source": [
    "# !pip install -r requirements.txt"
   ]
  },
  {
   "cell_type": "code",
   "execution_count": null,
   "id": "710b66bb-907e-400c-bf31-3fd6b77c8aa4",
   "metadata": {
    "tags": []
   },
   "outputs": [],
   "source": [
    "# import os\n",
    "# os.environ['TRANSFORMERS_CACHE'] = '/home/ec2-user/SageMaker/cache/'\n",
    "\n",
    "\n",
    "# from transformers import AutoTokenizer, AutoModelForCausalLM\n",
    "# tokenizer = AutoTokenizer.from_pretrained(\"csdc-atl/baichuan-7B-chat\", trust_remote_code=True)\n",
    "# model = AutoModelForCausalLM.from_pretrained(\"csdc-atl/baichuan-7B-chat\", trust_remote_code=True).half().cuda()\n",
    "# response, history = model.chat(tokenizer, \"“面朝大海，春暖花开”的出处是？\", history=[])\n",
    "# print(response)\n",
    "# response, history = model.chat(tokenizer, \"能不能把这一首诗完整背诵一下\", history=history)\n",
    "# print(response)\n",
    "\n",
    "\n",
    "# # from transformers import AutoModelForCausalLM, AutoTokenizer\n",
    "\n",
    "# # tokenizer = AutoTokenizer.from_pretrained(\"baichuan-inc/Baichuan-7B\", trust_remote_code=True)\n",
    "# # model = AutoModelForCausalLM.from_pretrained(\"baichuan-inc/Baichuan-7B\", device_map=\"auto\", trust_remote_code=True)\n",
    "# # #,offload_folder\n",
    "# # inputs = tokenizer('登鹳雀楼->王之涣\\n夜雨寄北->', return_tensors='pt')\n",
    "# # inputs = inputs.to('cuda:0')\n",
    "# # pred = model.generate(**inputs, max_new_tokens=64,repetition_penalty=1.1)\n",
    "# # print(tokenizer.decode(pred.cpu()[0], skip_special_tokens=True))"
   ]
  },
  {
   "cell_type": "code",
   "execution_count": 13,
   "id": "33d70eb6-070e-4d84-9c8f-5ec3572a74fb",
   "metadata": {
    "tags": []
   },
   "outputs": [],
   "source": [
    "# import boto3\n",
    "\n",
    "# client = boto3.client('sagemaker')\n",
    "\n",
    "# response = client.delete_endpoint_config(EndpointConfigName='pytorch-inference-baichuan-v1')"
   ]
  },
  {
   "cell_type": "code",
   "execution_count": 3,
   "id": "ca3850c3-01f8-4a24-b381-64bf7895f38d",
   "metadata": {
    "tags": []
   },
   "outputs": [],
   "source": [
    "!rm -rf src\n",
    "!mkdir src"
   ]
  },
  {
   "cell_type": "code",
   "execution_count": 4,
   "id": "2a7a04bc-dfaa-4786-829c-ca28f86286fd",
   "metadata": {},
   "outputs": [
    {
     "name": "stdout",
     "output_type": "stream",
     "text": [
      "Writing ./src/serving.properties\n"
     ]
    }
   ],
   "source": [
    "%%writefile ./src/serving.properties\n",
    "engine=DeepSpeed\n",
    "option.tensor_parallel_degree=1\n",
    "option.s3url=s3://sagemaker-us-east-1-310850127430/baichuan7b/\n",
    "batch_size=2\n",
    "max_batch_delay=50"
   ]
  },
  {
   "cell_type": "code",
   "execution_count": 4,
   "id": "dfba5a10-46a1-4502-8bd1-332e6ac69a84",
   "metadata": {
    "tags": []
   },
   "outputs": [
    {
     "name": "stdout",
     "output_type": "stream",
     "text": [
      "arn:aws:iam::310850127430:role/NotebookStack-SmartSearchNotebookRole6F6BB12B-XTY1WIG30A1B\n",
      "sagemaker-us-east-2-310850127430\n",
      "us-east-2\n",
      "dummy\n",
      "upload: ./model.tar.gz to s3://sagemaker-us-east-2-310850127430/llm_chinese/assets/model.tar.gz\n",
      "----------!"
     ]
    }
   ],
   "source": [
    "import boto3\n",
    "import sagemaker\n",
    "\n",
    "account_id = boto3.client('sts').get_caller_identity().get('Account')\n",
    "region_name = boto3.session.Session().region_name\n",
    "\n",
    "sagemaker_session = sagemaker.Session()\n",
    "bucket = sagemaker_session.default_bucket()\n",
    "role = sagemaker.get_execution_role()\n",
    "\n",
    "print(role)\n",
    "print(bucket)\n",
    "print(region_name)\n",
    "\n",
    "\n",
    "if \"cn-\" in region_name:\n",
    "    with open('./code/requirements.txt', 'r') as original: data = original.read()\n",
    "    with open('./code/requirements.txt', 'w') as modified: modified.write(\"-i https://pypi.tuna.tsinghua.edu.cn/simple\\n\" + data)\n",
    "\n",
    "!touch dummy\n",
    "!tar czvf model.tar.gz dummy\n",
    "assets_dir = 's3://{0}/{1}/assets/'.format(bucket, 'llm_chinese')\n",
    "model_data = 's3://{0}/{1}/assets/model.tar.gz'.format(bucket, 'llm_chinese')\n",
    "!aws s3 cp model.tar.gz $assets_dir\n",
    "!rm -f dummy model.tar.gz\n",
    "\n",
    "model_name = None\n",
    "entry_point = 'inference.py'\n",
    "# framework_version = '1.13.1'\n",
    "# py_version = 'py39'\n",
    "model_environment = {\n",
    "    'SAGEMAKER_MODEL_SERVER_TIMEOUT':'420', \n",
    "    'SAGEMAKER_MODEL_SERVER_WORKERS': '1', \n",
    "}\n",
    "\n",
    "\n",
    "\n",
    "url = f'763104351884.dkr.ecr.{region_name}.amazonaws.com/huggingface-pytorch-inference:2.0.0-transformers4.28.1-gpu-py310-cu118-ubuntu20.04'\n",
    "from sagemaker.huggingface.model import HuggingFaceModel\n",
    "model = HuggingFaceModel(\n",
    "    name = model_name,\n",
    "    model_data = model_data,\n",
    "    entry_point = entry_point,\n",
    "    source_dir = './code',\n",
    "    role = role,\n",
    "    # framework_version = framework_version, \n",
    "    # py_version = py_version,\n",
    "    # env = model_environment\n",
    "    image_uri=url\n",
    ")\n",
    "\n",
    "endpoint_name = 'hf-inference-baichuan-v1'\n",
    "instance_type='ml.g5.4xlarge' \n",
    "\n",
    "instance_count = 1\n",
    "\n",
    "\n",
    "import boto3\n",
    "\n",
    "client = boto3.client('sagemaker')\n",
    "try:\n",
    "    response = client.delete_endpoint_config(EndpointConfigName=endpoint_name)\n",
    "except:\n",
    "    pass\n",
    "\n",
    "\n",
    "from sagemaker.serializers import JSONSerializer\n",
    "from sagemaker.deserializers import JSONDeserializer\n",
    "predictor = model.deploy(\n",
    "    endpoint_name = endpoint_name,\n",
    "    instance_type = instance_type, \n",
    "    initial_instance_count = instance_count,\n",
    "    serializer = JSONSerializer(),\n",
    "    deserializer = JSONDeserializer()\n",
    ")"
   ]
  },
  {
   "cell_type": "code",
   "execution_count": 6,
   "id": "73fec371-c19e-46bb-aadf-081a26cae931",
   "metadata": {
    "tags": []
   },
   "outputs": [
    {
     "name": "stdout",
     "output_type": "stream",
     "text": [
      "晚上睡不着可能是因为身体疲劳、压力过大、焦虑、饮食不当等原因。以下是一些帮助您入睡的建议：\n",
      "\n",
      "1. 放松身体：尝试进行深呼吸、冥想或瑜伽等放松活动，以帮助您放松身体和思维。\n",
      "\n",
      "2. 创造一个舒适的睡眠环境：确保您的卧室安静、黑暗、凉爽和舒适。\n",
      "\n",
      "3. 避免刺激性物质：避免饮用咖啡因、酒精和尼古丁等刺激性物质，因为它们会影响您的睡眠。\n",
      "\n",
      "4. 建立规律的睡眠时间：尽量在同一时间入睡和起床，以帮助您的身体建立规律的睡眠模式。\n",
      "\n",
      "5. 避免午睡：如果您需要午睡，请确保在下午3点之前完成，以避免晚上难以入睡。\n",
      "\n",
      "6. 避免使用电子设备：在睡觉前避免使用电子设备，因为它们会刺激您的思维和眼睛。\n",
      "\n",
      "7. 寻求帮助：如果您尝试了以上建议但仍然无法入睡，请考虑咨询医生或专业人士的建议。\n"
     ]
    }
   ],
   "source": [
    "from sagemaker.serializers import JSONSerializer\n",
    "from sagemaker.deserializers import JSONDeserializer\n",
    "predictor = sagemaker.predictor.Predictor(endpoint_name)\n",
    "predictor.serializer = JSONSerializer()\n",
    "predictor.deserializer = JSONDeserializer()\n",
    "\n",
    "inputs= {\n",
    "    \"ask\": \"晚上睡不着应该怎么办\"\n",
    "\n",
    "}\n",
    "\n",
    "response = predictor.predict(inputs)\n",
    "print(response[\"answer\"])"
   ]
  },
  {
   "cell_type": "code",
   "execution_count": null,
   "id": "3ac57b11-7d49-4206-a27f-9e60bbfa5bbb",
   "metadata": {},
   "outputs": [],
   "source": []
  }
 ],
 "metadata": {
  "kernelspec": {
   "display_name": "conda_amazonei_pytorch_latest_p37",
   "language": "python",
   "name": "conda_amazonei_pytorch_latest_p37"
  },
  "language_info": {
   "codemirror_mode": {
    "name": "ipython",
    "version": 3
   },
   "file_extension": ".py",
   "mimetype": "text/x-python",
   "name": "python",
   "nbconvert_exporter": "python",
   "pygments_lexer": "ipython3",
   "version": "3.7.10"
  }
 },
 "nbformat": 4,
 "nbformat_minor": 5
}
